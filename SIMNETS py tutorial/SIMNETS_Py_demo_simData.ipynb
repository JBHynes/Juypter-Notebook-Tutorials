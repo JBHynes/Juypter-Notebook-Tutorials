{
 "cells": [
  {
   "cell_type": "code",
   "execution_count": 3,
   "id": "81c3545e",
   "metadata": {
    "ExecuteTime": {
     "end_time": "2023-06-17T13:02:05.944945Z",
     "start_time": "2023-06-17T13:02:05.904790Z"
    }
   },
   "outputs": [
    {
     "ename": "ModuleNotFoundError",
     "evalue": "No module named 'elephant'",
     "output_type": "error",
     "traceback": [
      "\u001B[0;31m---------------------------------------------------------------------------\u001B[0m",
      "\u001B[0;31mModuleNotFoundError\u001B[0m                       Traceback (most recent call last)",
      "Cell \u001B[0;32mIn[3], line 2\u001B[0m\n\u001B[1;32m      1\u001B[0m \u001B[38;5;28;01mimport\u001B[39;00m \u001B[38;5;21;01mnumpy\u001B[39;00m \u001B[38;5;28;01mas\u001B[39;00m \u001B[38;5;21;01mnp\u001B[39;00m\n\u001B[0;32m----> 2\u001B[0m \u001B[38;5;28;01mimport\u001B[39;00m \u001B[38;5;21;01melephant\u001B[39;00m\n\u001B[1;32m      3\u001B[0m \u001B[38;5;28;01mimport\u001B[39;00m \u001B[38;5;21;01mquantities\u001B[39;00m \u001B[38;5;28;01mas\u001B[39;00m \u001B[38;5;21;01mpq\u001B[39;00m\n\u001B[1;32m      4\u001B[0m \u001B[38;5;28;01mimport\u001B[39;00m \u001B[38;5;21;01mneo\u001B[39;00m\n",
      "\u001B[0;31mModuleNotFoundError\u001B[0m: No module named 'elephant'"
     ]
    }
   ],
   "source": [
    "import numpy as np\n",
    "import elephant\n",
    "import quantities as pq\n",
    "import neo\n",
    "import viziphant\n"
   ]
  },
  {
   "cell_type": "code",
   "execution_count": null,
   "id": "b6b1c15e",
   "metadata": {
    "ExecuteTime": {
     "start_time": "2023-06-17T13:02:05.930784Z"
    }
   },
   "outputs": [],
   "source": [
    "# Let's create some spike train data:\n",
    "from elephant.spike_train_generation import homogeneous_poisson_process, homogeneous_gamma_process\n",
    "from quantities import ms, s, Hz\n",
    "np.random.seed(28)  # to make the results reproducible\n",
    "\n",
    "# Spike train on/off times\n",
    "t_start = 0  \n",
    "win_len = 1000\n",
    "t_stop = t_start+win_len\n",
    "num_trials = 20\n",
    "num_neurons = 4\n",
    "# Rates\n",
    "rate_pop = [[ 10, 15, 20 ], [ 10, 15, 20 ], [ 10, 15, 20], [20, 5, 10]]\n",
    "#spiketrain1 = homogeneous_poisson_process(rate=10*Hz, t_start=0.*ms, t_stop=10000.*ms)\n",
    "#spiketrain2 = homogeneous_gamma_process(a=3, b=10*Hz, t_start=0.*ms, t_stop=10000.*ms)\n",
    "\n",
    "# Generate spike trains using encoding model of choice:\n",
    "spiketrains = []\n",
    "for n in range(num_trials):\n",
    "    rate_ref = rate_pop[n]\n",
    "    print(rate_ref)\n",
    "    for s in range(num_trials):\n",
    "        spiketrains_per_trial = []\n",
    "        for r in rate_ref:\n",
    "            spiketrains_per_trial.append = elephant.spike_train_generation.homogeneous_poisson_process(rate=r*pq.Hz, t_stop=10*pq.s)\n",
    "        spiketrains.append(spiketrains_per_trial)\n",
    "print(spiketrains)\n",
    "\n"
   ]
  },
  {
   "cell_type": "code",
   "execution_count": null,
   "id": "81de0f5b",
   "metadata": {
    "ExecuteTime": {
     "start_time": "2023-06-17T13:02:05.933759Z"
    }
   },
   "outputs": [],
   "source": [
    "import matplotlib.pyplot as plt\n",
    "\n",
    "# Plot our spiketrains\n",
    "f, ((ax1, ax2), (ax3, ax4)) = plt.subplots(2, 2, figsize=(15, 10))\n",
    "\n",
    "# plot spike trains\n",
    "trial_to_plot = 0\n",
    "for i, trial in enumerate(spiketrains[trial_to_plot]):\n",
    "    ax1.plot(trial, np.ones_like(trial) * i, ls='', marker='|')\n",
    "    ax1.set_title(f'Raster plot of trial {trial_to_plot}')\n",
    "    ax1.set_xlabel('Time (s)')\n",
    "    ax1.set_ylabel('Spike train index')\n"
   ]
  },
  {
   "cell_type": "code",
   "execution_count": null,
   "id": "9219544a",
   "metadata": {
    "ExecuteTime": {
     "start_time": "2023-06-17T13:02:05.936717Z"
    }
   },
   "outputs": [],
   "source": [
    "# We calculate the single neuron SxS SSIM matrices for all N neurons:\n",
    "from elephant.spike_train_dissimilarity import victor_purpura_distance\n",
    "\n",
    "q = 1.0 / (10.0 * pq.ms)\n",
    "ssim_mat = np.empty([num_trials, num_trials])\n",
    "ssim_vecPop = np.empty([num_trials, num_neurons])\n",
    "\n",
    "for sx in spiketrains:\n",
    "    while sy < sx:\n",
    "        ssim_mat[sx,sy] = victor_purpura_distance(sx, sy, q,algorithm='fast')[0, 1]\n",
    "    ssim_vecPop\n",
    "\n",
    "print(ssim_mat)\n",
    "ssim_mat[np.triu_indices(num_trials)] = ssim_mat[np.tril_indices(num_trials)]\n",
    "print(ssim_mat)"
   ]
  },
  {
   "cell_type": "code",
   "execution_count": null,
   "id": "5423cc5d",
   "metadata": {
    "ExecuteTime": {
     "start_time": "2023-06-17T13:02:05.940301Z"
    }
   },
   "outputs": [],
   "source": [
    "from elephant.spike_train_correlation import correlation_coefficient\n",
    "# We calculate the Computational Similarity between all NxN neurons:\n",
    "\n",
    "for nx in spiketrains:\n",
    "    while ny < nx:\n",
    "        ssim_mat[sx,sy] = correlation_coefficient(ssim_mat )\n",
    "\n"
   ]
  },
  {
   "cell_type": "code",
   "execution_count": null,
   "id": "5b327a0b",
   "metadata": {
    "ExecuteTime": {
     "start_time": "2023-06-17T13:02:05.942344Z"
    }
   },
   "outputs": [],
   "source": []
  },
  {
   "cell_type": "code",
   "execution_count": null,
   "id": "4f4051a6",
   "metadata": {},
   "outputs": [],
   "source": []
  }
 ],
 "metadata": {
  "kernelspec": {
   "display_name": "Python 3 (ipykernel)",
   "language": "python",
   "name": "python3"
  },
  "language_info": {
   "codemirror_mode": {
    "name": "ipython",
    "version": 3
   },
   "file_extension": ".py",
   "mimetype": "text/x-python",
   "name": "python",
   "nbconvert_exporter": "python",
   "pygments_lexer": "ipython3",
   "version": "3.8.16"
  }
 },
 "nbformat": 4,
 "nbformat_minor": 5
}
